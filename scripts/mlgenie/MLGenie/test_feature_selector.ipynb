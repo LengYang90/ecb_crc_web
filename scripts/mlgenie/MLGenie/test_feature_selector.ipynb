{
 "cells": [
  {
   "cell_type": "markdown",
   "id": "0128bae5-7fc2-434e-86c0-041fe39c63a4",
   "metadata": {},
   "source": [
    "# Test Feature Selector in Simulation Data"
   ]
  },
  {
   "cell_type": "code",
   "execution_count": 1,
   "id": "d184c3d4-4fd4-486c-9498-3880a9a54b9d",
   "metadata": {},
   "outputs": [],
   "source": [
    "import numpy as np\n",
    "import pandas as pd\n",
    "from Data import GeneMutationData, GeneExpressionData, ProteinExpressionData, GeneCNVData, MultiOmicsData\n",
    "from DataProcessor import BinaryDataProcessor, ContinuesDataProcessor\n",
    "from FeatureSelector import FeatureSelector\n",
    "from Simulator import simulate_data"
   ]
  },
  {
   "cell_type": "code",
   "execution_count": 2,
   "id": "ad08eb23-a604-49dd-81db-f1d5c0da8a7b",
   "metadata": {},
   "outputs": [],
   "source": [
    "def simulate_multi_omics_data(\n",
    "    n_samples, n_group_feat, n_base, n_interact, n_correlated,\n",
    "    corr_level, noise_level_X, noise_level_y\n",
    "):\n",
    "    # simulate data\n",
    "    X, y, coef = simulate_data(\n",
    "        n_samples=n_samples, label=\"classification\",\n",
    "        n_feat_normal=n_group_feat, n_feat_normal_bimodal=n_group_feat, \n",
    "        n_feat_count=n_group_feat, n_feat_count_bimodal=n_group_feat,\n",
    "        n_feat_binary=n_group_feat, n_feat_uniform=n_group_feat, \n",
    "        n_base=n_base, n_interact=n_interact, n_correlated=n_correlated,\n",
    "        corr_level=corr_level, noise_level_X=noise_level_X, noise_level_y=noise_level_y\n",
    "    )\n",
    "    \n",
    "    # get features\n",
    "    prot = X.iloc[:, :n_group_feat*2]\n",
    "    expr = np.log2(X.iloc[:, n_group_feat*2:n_group_feat*4] + 1)\n",
    "    mut = X.iloc[:, n_group_feat*4:n_group_feat*5]\n",
    "    cnv = X.iloc[:, n_group_feat*5:]\n",
    "\n",
    "    # get labels\n",
    "    y = pd.Series(y)\n",
    "\n",
    "    # omics data\n",
    "    prot = ProteinExpressionData(prot, y)\n",
    "    expr = GeneExpressionData(expr, y)\n",
    "    mut = GeneMutationData(mut, y)\n",
    "    cnv = GeneCNVData(cnv, y)\n",
    "\n",
    "    # process omics data\n",
    "    prot = ContinuesDataProcessor().fit_transform(prot).get_features(layer=\"processed\")\n",
    "    expr = ContinuesDataProcessor().fit_transform(expr).get_features(layer=\"processed\")\n",
    "    mut = BinaryDataProcessor().fit_transform(mut).get_features(layer=\"processed\")\n",
    "    cnv = ContinuesDataProcessor().fit_transform(cnv).get_features(layer=\"processed\")\n",
    "\n",
    "    # combine processed data\n",
    "    omics = MultiOmicsData(gene_mutation=mut, gene_expression=expr, protein_expression=prot, gene_cnv=cnv, labels=y, if_processed=True)\n",
    "    mat = omics.get_combined_features(layer=\"processed\")\n",
    "\n",
    "    return mat, y, coef\n",
    "    \n"
   ]
  },
  {
   "cell_type": "markdown",
   "id": "e61764ce-8d3e-4d36-b7fd-da6924deb638",
   "metadata": {},
   "source": [
    "## 1. Simulate Data"
   ]
  },
  {
   "cell_type": "code",
   "execution_count": 3,
   "id": "18feb17d-6338-4afa-a36f-63c2905dc85f",
   "metadata": {},
   "outputs": [
    {
     "name": "stdout",
     "output_type": "stream",
     "text": [
      "Identifying high quality features ...\n",
      "Identifying informative features ...\n",
      "Imputing missing value ...\n",
      "Identifying and transforming skewed features ...\n",
      "Identifying feature outliers ...\n",
      "Scaling features ...\n",
      "Identifying correlated features ...\n",
      "Identifying high quality features ...\n",
      "Identifying informative features ...\n",
      "Imputing missing value ...\n",
      "Identifying and transforming skewed features ...\n",
      "Identifying feature outliers ...\n",
      "Scaling features ...\n",
      "Identifying correlated features ...\n",
      "Identifying high quality features ...\n",
      "Identifying informative features ...\n",
      "Imputing missing value ...\n",
      "Identifying high quality features ...\n",
      "Identifying informative features ...\n",
      "Imputing missing value ...\n",
      "Identifying and transforming skewed features ...\n",
      "Identifying feature outliers ...\n",
      "Scaling features ...\n",
      "Identifying correlated features ...\n"
     ]
    }
   ],
   "source": [
    "mat, y, coef = simulate_multi_omics_data(\n",
    "    n_samples=200, n_group_feat=100, \n",
    "    n_base=1, n_interact=0, n_correlated=20,\n",
    "    corr_level=\"medium\", noise_level_X=\"low\", noise_level_y=\"low\"\n",
    ")"
   ]
  },
  {
   "cell_type": "markdown",
   "id": "ca8eaa8b-d7a8-49db-9502-3581c9577397",
   "metadata": {},
   "source": [
    "## 2. Select features"
   ]
  },
  {
   "cell_type": "code",
   "execution_count": 4,
   "id": "a5913d40-06ac-48f6-85e1-b764106a8571",
   "metadata": {},
   "outputs": [
    {
     "name": "stdout",
     "output_type": "stream",
     "text": [
      "Fitting bootstrap sample 1 ...\n"
     ]
    },
    {
     "name": "stderr",
     "output_type": "stream",
     "text": [
      "/home/mzhang/anaconda3/lib/python3.12/site-packages/sklearn/linear_model/_sag.py:350: ConvergenceWarning: The max_iter was reached which means the coef_ did not converge\n",
      "  warnings.warn(\n"
     ]
    },
    {
     "name": "stdout",
     "output_type": "stream",
     "text": [
      "Fitting bootstrap sample 2 ...\n"
     ]
    },
    {
     "name": "stderr",
     "output_type": "stream",
     "text": [
      "/home/mzhang/anaconda3/lib/python3.12/site-packages/sklearn/linear_model/_sag.py:350: ConvergenceWarning: The max_iter was reached which means the coef_ did not converge\n",
      "  warnings.warn(\n"
     ]
    },
    {
     "name": "stdout",
     "output_type": "stream",
     "text": [
      "Fitting bootstrap sample 3 ...\n"
     ]
    },
    {
     "name": "stderr",
     "output_type": "stream",
     "text": [
      "/home/mzhang/anaconda3/lib/python3.12/site-packages/sklearn/linear_model/_sag.py:350: ConvergenceWarning: The max_iter was reached which means the coef_ did not converge\n",
      "  warnings.warn(\n"
     ]
    },
    {
     "name": "stdout",
     "output_type": "stream",
     "text": [
      "Fitting bootstrap sample 4 ...\n"
     ]
    },
    {
     "name": "stderr",
     "output_type": "stream",
     "text": [
      "/home/mzhang/anaconda3/lib/python3.12/site-packages/sklearn/linear_model/_sag.py:350: ConvergenceWarning: The max_iter was reached which means the coef_ did not converge\n",
      "  warnings.warn(\n"
     ]
    },
    {
     "name": "stdout",
     "output_type": "stream",
     "text": [
      "Fitting bootstrap sample 5 ...\n"
     ]
    },
    {
     "name": "stderr",
     "output_type": "stream",
     "text": [
      "/home/mzhang/anaconda3/lib/python3.12/site-packages/sklearn/linear_model/_sag.py:350: ConvergenceWarning: The max_iter was reached which means the coef_ did not converge\n",
      "  warnings.warn(\n"
     ]
    },
    {
     "name": "stdout",
     "output_type": "stream",
     "text": [
      "Fitting bootstrap sample 6 ...\n"
     ]
    },
    {
     "name": "stderr",
     "output_type": "stream",
     "text": [
      "/home/mzhang/anaconda3/lib/python3.12/site-packages/sklearn/linear_model/_sag.py:350: ConvergenceWarning: The max_iter was reached which means the coef_ did not converge\n",
      "  warnings.warn(\n"
     ]
    },
    {
     "name": "stdout",
     "output_type": "stream",
     "text": [
      "Fitting bootstrap sample 7 ...\n"
     ]
    },
    {
     "name": "stderr",
     "output_type": "stream",
     "text": [
      "/home/mzhang/anaconda3/lib/python3.12/site-packages/sklearn/linear_model/_sag.py:350: ConvergenceWarning: The max_iter was reached which means the coef_ did not converge\n",
      "  warnings.warn(\n"
     ]
    },
    {
     "name": "stdout",
     "output_type": "stream",
     "text": [
      "Fitting bootstrap sample 8 ...\n"
     ]
    },
    {
     "name": "stderr",
     "output_type": "stream",
     "text": [
      "/home/mzhang/anaconda3/lib/python3.12/site-packages/sklearn/linear_model/_sag.py:350: ConvergenceWarning: The max_iter was reached which means the coef_ did not converge\n",
      "  warnings.warn(\n"
     ]
    },
    {
     "name": "stdout",
     "output_type": "stream",
     "text": [
      "Fitting bootstrap sample 9 ...\n"
     ]
    },
    {
     "name": "stderr",
     "output_type": "stream",
     "text": [
      "/home/mzhang/anaconda3/lib/python3.12/site-packages/sklearn/linear_model/_sag.py:350: ConvergenceWarning: The max_iter was reached which means the coef_ did not converge\n",
      "  warnings.warn(\n"
     ]
    },
    {
     "name": "stdout",
     "output_type": "stream",
     "text": [
      "Fitting bootstrap sample 10 ...\n"
     ]
    },
    {
     "name": "stderr",
     "output_type": "stream",
     "text": [
      "/home/mzhang/anaconda3/lib/python3.12/site-packages/sklearn/linear_model/_sag.py:350: ConvergenceWarning: The max_iter was reached which means the coef_ did not converge\n",
      "  warnings.warn(\n"
     ]
    },
    {
     "name": "stdout",
     "output_type": "stream",
     "text": [
      "Fitting bootstrap sample 11 ...\n"
     ]
    },
    {
     "name": "stderr",
     "output_type": "stream",
     "text": [
      "/home/mzhang/anaconda3/lib/python3.12/site-packages/sklearn/linear_model/_sag.py:350: ConvergenceWarning: The max_iter was reached which means the coef_ did not converge\n",
      "  warnings.warn(\n"
     ]
    },
    {
     "name": "stdout",
     "output_type": "stream",
     "text": [
      "Fitting bootstrap sample 12 ...\n"
     ]
    },
    {
     "name": "stderr",
     "output_type": "stream",
     "text": [
      "/home/mzhang/anaconda3/lib/python3.12/site-packages/sklearn/linear_model/_sag.py:350: ConvergenceWarning: The max_iter was reached which means the coef_ did not converge\n",
      "  warnings.warn(\n"
     ]
    },
    {
     "name": "stdout",
     "output_type": "stream",
     "text": [
      "Fitting bootstrap sample 13 ...\n"
     ]
    },
    {
     "name": "stderr",
     "output_type": "stream",
     "text": [
      "/home/mzhang/anaconda3/lib/python3.12/site-packages/sklearn/linear_model/_sag.py:350: ConvergenceWarning: The max_iter was reached which means the coef_ did not converge\n",
      "  warnings.warn(\n"
     ]
    },
    {
     "name": "stdout",
     "output_type": "stream",
     "text": [
      "Fitting bootstrap sample 14 ...\n"
     ]
    },
    {
     "name": "stderr",
     "output_type": "stream",
     "text": [
      "/home/mzhang/anaconda3/lib/python3.12/site-packages/sklearn/linear_model/_sag.py:350: ConvergenceWarning: The max_iter was reached which means the coef_ did not converge\n",
      "  warnings.warn(\n"
     ]
    },
    {
     "name": "stdout",
     "output_type": "stream",
     "text": [
      "Fitting bootstrap sample 15 ...\n"
     ]
    },
    {
     "name": "stderr",
     "output_type": "stream",
     "text": [
      "/home/mzhang/anaconda3/lib/python3.12/site-packages/sklearn/linear_model/_sag.py:350: ConvergenceWarning: The max_iter was reached which means the coef_ did not converge\n",
      "  warnings.warn(\n"
     ]
    },
    {
     "name": "stdout",
     "output_type": "stream",
     "text": [
      "Fitting bootstrap sample 16 ...\n"
     ]
    },
    {
     "name": "stderr",
     "output_type": "stream",
     "text": [
      "/home/mzhang/anaconda3/lib/python3.12/site-packages/sklearn/linear_model/_sag.py:350: ConvergenceWarning: The max_iter was reached which means the coef_ did not converge\n",
      "  warnings.warn(\n"
     ]
    },
    {
     "name": "stdout",
     "output_type": "stream",
     "text": [
      "Fitting bootstrap sample 17 ...\n"
     ]
    },
    {
     "name": "stderr",
     "output_type": "stream",
     "text": [
      "/home/mzhang/anaconda3/lib/python3.12/site-packages/sklearn/linear_model/_sag.py:350: ConvergenceWarning: The max_iter was reached which means the coef_ did not converge\n",
      "  warnings.warn(\n"
     ]
    },
    {
     "name": "stdout",
     "output_type": "stream",
     "text": [
      "Fitting bootstrap sample 18 ...\n"
     ]
    },
    {
     "name": "stderr",
     "output_type": "stream",
     "text": [
      "/home/mzhang/anaconda3/lib/python3.12/site-packages/sklearn/linear_model/_sag.py:350: ConvergenceWarning: The max_iter was reached which means the coef_ did not converge\n",
      "  warnings.warn(\n"
     ]
    },
    {
     "name": "stdout",
     "output_type": "stream",
     "text": [
      "Fitting bootstrap sample 19 ...\n"
     ]
    },
    {
     "name": "stderr",
     "output_type": "stream",
     "text": [
      "/home/mzhang/anaconda3/lib/python3.12/site-packages/sklearn/linear_model/_sag.py:350: ConvergenceWarning: The max_iter was reached which means the coef_ did not converge\n",
      "  warnings.warn(\n"
     ]
    },
    {
     "name": "stdout",
     "output_type": "stream",
     "text": [
      "Fitting bootstrap sample 20 ...\n"
     ]
    },
    {
     "name": "stderr",
     "output_type": "stream",
     "text": [
      "/home/mzhang/anaconda3/lib/python3.12/site-packages/sklearn/linear_model/_sag.py:350: ConvergenceWarning: The max_iter was reached which means the coef_ did not converge\n",
      "  warnings.warn(\n"
     ]
    },
    {
     "name": "stdout",
     "output_type": "stream",
     "text": [
      "Fitting bootstrap sample 21 ...\n"
     ]
    },
    {
     "name": "stderr",
     "output_type": "stream",
     "text": [
      "/home/mzhang/anaconda3/lib/python3.12/site-packages/sklearn/linear_model/_sag.py:350: ConvergenceWarning: The max_iter was reached which means the coef_ did not converge\n",
      "  warnings.warn(\n"
     ]
    },
    {
     "name": "stdout",
     "output_type": "stream",
     "text": [
      "Fitting bootstrap sample 22 ...\n"
     ]
    },
    {
     "name": "stderr",
     "output_type": "stream",
     "text": [
      "/home/mzhang/anaconda3/lib/python3.12/site-packages/sklearn/linear_model/_sag.py:350: ConvergenceWarning: The max_iter was reached which means the coef_ did not converge\n",
      "  warnings.warn(\n"
     ]
    },
    {
     "name": "stdout",
     "output_type": "stream",
     "text": [
      "Fitting bootstrap sample 23 ...\n"
     ]
    },
    {
     "name": "stderr",
     "output_type": "stream",
     "text": [
      "/home/mzhang/anaconda3/lib/python3.12/site-packages/sklearn/linear_model/_sag.py:350: ConvergenceWarning: The max_iter was reached which means the coef_ did not converge\n",
      "  warnings.warn(\n"
     ]
    },
    {
     "name": "stdout",
     "output_type": "stream",
     "text": [
      "Fitting bootstrap sample 24 ...\n"
     ]
    },
    {
     "name": "stderr",
     "output_type": "stream",
     "text": [
      "/home/mzhang/anaconda3/lib/python3.12/site-packages/sklearn/linear_model/_sag.py:350: ConvergenceWarning: The max_iter was reached which means the coef_ did not converge\n",
      "  warnings.warn(\n"
     ]
    },
    {
     "name": "stdout",
     "output_type": "stream",
     "text": [
      "Fitting bootstrap sample 25 ...\n"
     ]
    },
    {
     "name": "stderr",
     "output_type": "stream",
     "text": [
      "/home/mzhang/anaconda3/lib/python3.12/site-packages/sklearn/linear_model/_sag.py:350: ConvergenceWarning: The max_iter was reached which means the coef_ did not converge\n",
      "  warnings.warn(\n"
     ]
    },
    {
     "name": "stdout",
     "output_type": "stream",
     "text": [
      "Fitting bootstrap sample 26 ...\n"
     ]
    },
    {
     "name": "stderr",
     "output_type": "stream",
     "text": [
      "/home/mzhang/anaconda3/lib/python3.12/site-packages/sklearn/linear_model/_sag.py:350: ConvergenceWarning: The max_iter was reached which means the coef_ did not converge\n",
      "  warnings.warn(\n"
     ]
    },
    {
     "name": "stdout",
     "output_type": "stream",
     "text": [
      "Fitting bootstrap sample 27 ...\n"
     ]
    },
    {
     "name": "stderr",
     "output_type": "stream",
     "text": [
      "/home/mzhang/anaconda3/lib/python3.12/site-packages/sklearn/linear_model/_sag.py:350: ConvergenceWarning: The max_iter was reached which means the coef_ did not converge\n",
      "  warnings.warn(\n"
     ]
    },
    {
     "name": "stdout",
     "output_type": "stream",
     "text": [
      "Fitting bootstrap sample 28 ...\n"
     ]
    },
    {
     "name": "stderr",
     "output_type": "stream",
     "text": [
      "/home/mzhang/anaconda3/lib/python3.12/site-packages/sklearn/linear_model/_sag.py:350: ConvergenceWarning: The max_iter was reached which means the coef_ did not converge\n",
      "  warnings.warn(\n"
     ]
    },
    {
     "name": "stdout",
     "output_type": "stream",
     "text": [
      "Fitting bootstrap sample 29 ...\n"
     ]
    },
    {
     "name": "stderr",
     "output_type": "stream",
     "text": [
      "/home/mzhang/anaconda3/lib/python3.12/site-packages/sklearn/linear_model/_sag.py:350: ConvergenceWarning: The max_iter was reached which means the coef_ did not converge\n",
      "  warnings.warn(\n"
     ]
    },
    {
     "name": "stdout",
     "output_type": "stream",
     "text": [
      "Fitting bootstrap sample 30 ...\n"
     ]
    },
    {
     "name": "stderr",
     "output_type": "stream",
     "text": [
      "/home/mzhang/anaconda3/lib/python3.12/site-packages/sklearn/linear_model/_sag.py:350: ConvergenceWarning: The max_iter was reached which means the coef_ did not converge\n",
      "  warnings.warn(\n"
     ]
    }
   ],
   "source": [
    "fs = FeatureSelector(task_type=\"classification\", n_features=10, n_bootstrap=30)\n",
    "fs.fit(X=mat, y=y)"
   ]
  },
  {
   "cell_type": "code",
   "execution_count": 5,
   "id": "12932c0d-5fe4-4772-bcdd-831654b2e32a",
   "metadata": {},
   "outputs": [
    {
     "data": {
      "text/plain": [
       "(['protein_expression|feat_normal_bimodal_1',\n",
       "  'protein_expression|feat_normal_1',\n",
       "  'protein_expression|feat_normal_bimodal_7',\n",
       "  'protein_expression|feat_normal_bimodal_14',\n",
       "  'protein_expression|feat_normal_bimodal_6',\n",
       "  'protein_expression|feat_normal_20',\n",
       "  'gene_expression|feat_count_11',\n",
       "  'gene_expression|feat_count_1',\n",
       "  'gene_cnv|feat_uniform_66',\n",
       "  'gene_expression|feat_count_20'],\n",
       " array([0.93181818, 0.84090909, 0.67613636, 0.66477273, 0.50568182,\n",
       "        0.5026738 , 0.46363636, 0.44755245, 0.38502674, 0.38311688]))"
      ]
     },
     "execution_count": 5,
     "metadata": {},
     "output_type": "execute_result"
    }
   ],
   "source": [
    "fs.get_selected_features()"
   ]
  },
  {
   "cell_type": "code",
   "execution_count": 6,
   "id": "1dd3a9f3-f002-4360-8c88-a4347ee05233",
   "metadata": {},
   "outputs": [],
   "source": [
    "feature_score = fs.feature_scores_.copy()\n",
    "feature_score.index = feature_score.index.to_series().apply(lambda x: x.split(\"|\")[1])\n",
    "feature_score = pd.concat([feature_score.to_frame().rename(columns={0: \"score\"}), coef.abs()], axis=1)\n",
    "feature_score = feature_score.loc[coef.index,:].sort_values(by=\"coef\", ascending=False)"
   ]
  },
  {
   "cell_type": "code",
   "execution_count": 7,
   "id": "d5446936-bfb7-4e63-9b1c-dd6ea3cedd9d",
   "metadata": {},
   "outputs": [
    {
     "data": {
      "text/html": [
       "<div>\n",
       "<style scoped>\n",
       "    .dataframe tbody tr th:only-of-type {\n",
       "        vertical-align: middle;\n",
       "    }\n",
       "\n",
       "    .dataframe tbody tr th {\n",
       "        vertical-align: top;\n",
       "    }\n",
       "\n",
       "    .dataframe thead th {\n",
       "        text-align: right;\n",
       "    }\n",
       "</style>\n",
       "<table border=\"1\" class=\"dataframe\">\n",
       "  <thead>\n",
       "    <tr style=\"text-align: right;\">\n",
       "      <th></th>\n",
       "      <th>score</th>\n",
       "      <th>coef</th>\n",
       "    </tr>\n",
       "  </thead>\n",
       "  <tbody>\n",
       "    <tr>\n",
       "      <th>feat_normal_bimodal_1</th>\n",
       "      <td>0.931818</td>\n",
       "      <td>0.964716</td>\n",
       "    </tr>\n",
       "    <tr>\n",
       "      <th>feat_normal_1</th>\n",
       "      <td>0.840909</td>\n",
       "      <td>0.908825</td>\n",
       "    </tr>\n",
       "    <tr>\n",
       "      <th>feat_binary_1</th>\n",
       "      <td>0.006494</td>\n",
       "      <td>0.901939</td>\n",
       "    </tr>\n",
       "    <tr>\n",
       "      <th>feat_count_1</th>\n",
       "      <td>0.447552</td>\n",
       "      <td>0.674066</td>\n",
       "    </tr>\n",
       "    <tr>\n",
       "      <th>feat_uniform_1</th>\n",
       "      <td>0.053030</td>\n",
       "      <td>0.661820</td>\n",
       "    </tr>\n",
       "    <tr>\n",
       "      <th>feat_count_bimodal_1</th>\n",
       "      <td>0.011364</td>\n",
       "      <td>0.594557</td>\n",
       "    </tr>\n",
       "  </tbody>\n",
       "</table>\n",
       "</div>"
      ],
      "text/plain": [
       "                          score      coef\n",
       "feat_normal_bimodal_1  0.931818  0.964716\n",
       "feat_normal_1          0.840909  0.908825\n",
       "feat_binary_1          0.006494  0.901939\n",
       "feat_count_1           0.447552  0.674066\n",
       "feat_uniform_1         0.053030  0.661820\n",
       "feat_count_bimodal_1   0.011364  0.594557"
      ]
     },
     "execution_count": 7,
     "metadata": {},
     "output_type": "execute_result"
    }
   ],
   "source": [
    "feature_score"
   ]
  }
 ],
 "metadata": {
  "kernelspec": {
   "display_name": "Python 3",
   "language": "python",
   "name": "python3"
  },
  "language_info": {
   "codemirror_mode": {
    "name": "ipython",
    "version": 3
   },
   "file_extension": ".py",
   "mimetype": "text/x-python",
   "name": "python",
   "nbconvert_exporter": "python",
   "pygments_lexer": "ipython3",
   "version": "3.12.4"
  }
 },
 "nbformat": 4,
 "nbformat_minor": 5
}
